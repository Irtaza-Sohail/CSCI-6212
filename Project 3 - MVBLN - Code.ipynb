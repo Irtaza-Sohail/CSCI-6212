{
 "cells": [
  {
   "cell_type": "markdown",
   "metadata": {},
   "source": [
    "# Project 3 CSCI-6212"
   ]
  },
  {
   "cell_type": "code",
   "execution_count": 83,
   "metadata": {
    "scrolled": false
   },
   "outputs": [
    {
     "name": "stdout",
     "output_type": "stream",
     "text": [
      "Array =  [ 1  4  3 10  6  7  3  5  9  2  5  3  5  5  9  8  5  8  7  7 10  8  7  5\n",
      "  1  7  7  6 10  8]\n",
      "Sum =  [1, 4, 4, 14, 14, 21, 21, 26, 30, 30, 35, 35, 40, 40, 49, 49, 54, 57, 61, 64, 71, 72, 78, 78, 79, 85, 86, 91, 96, 99]\n",
      "Runtime of the program is  205.4574300000004\n",
      "MVBLN =  117\n"
     ]
    }
   ],
   "source": [
    "import numpy as np\n",
    "import sys\n",
    "from timeit import default_timer as timer\n",
    "\n",
    "n = 30\n",
    "sys.setrecursionlimit(100*n)\n",
    "\n",
    "#array of n random integers between 1 and 10\n",
    "a = np.random.randint(1,11,n)\n",
    "\n",
    "Sum = [0] * n\n",
    "Sum[0] = a[0]\n",
    "Sum[1] = max(a[0],a[1])\n",
    "\n",
    "i = 2\n",
    "while (i < n):\n",
    "    Sum[i] = max(Sum[i-1], Sum[i-2]+a[i])\n",
    "    i = i + 1\n",
    "\n",
    "print(\"Array = \", a)\n",
    "print(\"Sum = \", Sum)\n",
    "\n",
    "##############################################################################\n",
    "\n",
    "def MV(x, y):\n",
    "    if y==0:\n",
    "        return Sum[x]\n",
    "    if x==0:\n",
    "        return a[0]\n",
    "    if x<0:\n",
    "        return 0\n",
    "    else:\n",
    "        return max(MV(x-1, y), a[x]+MV(x-1, y-1), a[x]+MV(x-2, y))\n",
    "\n",
    "##################################################################################\n",
    "\n",
    "# Allowed neighbours\n",
    "m = 3\n",
    "\n",
    "j = n-1\n",
    "\n",
    "start = timer()\n",
    "\n",
    "if m==0:\n",
    "    MVBLN = Sum[j]\n",
    "else:\n",
    "    MVBLN = max(MV(j-1, m), (a[j]+MV(j-1, m-1)), (a[j]+MV(j-2, m)))\n",
    "    \n",
    "end = timer()\n",
    "\n",
    "print(\"Runtime of the program is \", end - start)\n",
    "\n",
    "print(\"MVBLN = \",MVBLN)\n",
    "\n"
   ]
  },
  {
   "cell_type": "markdown",
   "metadata": {},
   "source": [
    "# Code for a specific input\n",
    "a = [10,9,3,9,5]"
   ]
  },
  {
   "cell_type": "code",
   "execution_count": null,
   "metadata": {},
   "outputs": [],
   "source": [
    "import numpy as np\n",
    "import sys\n",
    "\n",
    "from IPython.core.interactiveshell import InteractiveShell\n",
    "InteractiveShell.ast_node_interactivity = \"all\"\n",
    "\n",
    "n = 5\n",
    "sys.setrecursionlimit(1000*n)\n",
    "\n",
    "#Specific array\n",
    "a = [10,9,3,9,5]\n",
    "\n",
    "Sum = [0] * n\n",
    "Sum[0] = a[0]\n",
    "Sum[1] = max(a[0],a[1])\n",
    "\n",
    "i = 2\n",
    "while (i < n):\n",
    "    Sum[i] = max(Sum[i-1], Sum[i-2]+a[i])\n",
    "    i = i + 1\n",
    "\n",
    "print(\"Sum = \", Sum)\n",
    "print(\"Array = \", a)\n",
    "\n",
    "##############################################################################\n",
    "\n",
    "def MV(x, y):\n",
    "    print(\"Recursion called x = \",x,\" and y = \",y)\n",
    "    if y==0:\n",
    "        print(\"Value returned = \", Sum[x])\n",
    "        return Sum[x]\n",
    "    if x==0:\n",
    "        print(\"Value returned = \", a[0])\n",
    "        return a[0]\n",
    "#     if x==1:\n",
    "#         return a[0]\n",
    "    if x<0:\n",
    "        print(\"Value returned = 0\")\n",
    "        return 0\n",
    "    else:\n",
    "        value = max(MV(x-1, y), a[x]+MV(x-1, y-1), a[x]+MV(x-2, y))\n",
    "        print(\"Value returned = \", value)\n",
    "        return value\n",
    "\n",
    "##################################################################################\n",
    "\n",
    "# Allowed neighbours\n",
    "m = 3\n",
    "\n",
    "j = n-1\n",
    "MVBLN = max(MV(j-1, m), (a[j]+MV(j-1, m-1)), (a[j]+MV(j-2, m)))\n",
    "\n",
    "print(\"MVBLN = \",MVBLN)\n"
   ]
  }
 ],
 "metadata": {
  "kernelspec": {
   "display_name": "Python 3",
   "language": "python",
   "name": "python3"
  },
  "language_info": {
   "codemirror_mode": {
    "name": "ipython",
    "version": 3
   },
   "file_extension": ".py",
   "mimetype": "text/x-python",
   "name": "python",
   "nbconvert_exporter": "python",
   "pygments_lexer": "ipython3",
   "version": "3.7.4"
  }
 },
 "nbformat": 4,
 "nbformat_minor": 2
}
